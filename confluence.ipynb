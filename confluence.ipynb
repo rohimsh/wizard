{
 "cells": [
  {
   "cell_type": "code",
   "execution_count": 40,
   "metadata": {},
   "outputs": [
    {
     "ename": "FeatureNotFound",
     "evalue": "Couldn't find a tree builder with the features you requested: lxml. Do you need to install a parser library?",
     "output_type": "error",
     "traceback": [
      "\u001b[0;31m---------------------------------------------------------------------------\u001b[0m",
      "\u001b[0;31mFeatureNotFound\u001b[0m                           Traceback (most recent call last)",
      "Cell \u001b[0;32mIn[40], line 30\u001b[0m\n\u001b[1;32m     24\u001b[0m \u001b[39m## 1. Extract the documents\u001b[39;00m\n\u001b[1;32m     25\u001b[0m loader \u001b[39m=\u001b[39m ConfluenceLoader(\n\u001b[1;32m     26\u001b[0m     url\u001b[39m=\u001b[39mconfluence_url,\n\u001b[1;32m     27\u001b[0m     username \u001b[39m=\u001b[39m username,\n\u001b[1;32m     28\u001b[0m     api_key\u001b[39m=\u001b[39m api_key\n\u001b[1;32m     29\u001b[0m )\n\u001b[0;32m---> 30\u001b[0m documents \u001b[39m=\u001b[39m loader\u001b[39m.\u001b[39;49mload(\n\u001b[1;32m     31\u001b[0m     space_key\u001b[39m=\u001b[39;49mspace_key,\n\u001b[1;32m     32\u001b[0m     page_ids\u001b[39m=\u001b[39;49m\u001b[39mlist\u001b[39;49m(\u001b[39m\"\u001b[39;49m\u001b[39m593429341\u001b[39;49m\u001b[39m\"\u001b[39;49m),\n\u001b[1;32m     33\u001b[0m     limit\u001b[39m=\u001b[39;49m\u001b[39m1\u001b[39;49m\n\u001b[1;32m     34\u001b[0m     )\n\u001b[1;32m     36\u001b[0m text_splitter \u001b[39m=\u001b[39m CharacterTextSplitter(chunk_size\u001b[39m=\u001b[39m\u001b[39m100\u001b[39m, chunk_overlap\u001b[39m=\u001b[39m\u001b[39m0\u001b[39m)\n\u001b[1;32m     37\u001b[0m texts \u001b[39m=\u001b[39m text_splitter\u001b[39m.\u001b[39msplit_documents(documents)\n",
      "File \u001b[0;32m~/pincode/navi-hackathon/.venv/lib/python3.9/site-packages/langchain/document_loaders/confluence.py:233\u001b[0m, in \u001b[0;36mConfluenceLoader.load\u001b[0;34m(self, space_key, page_ids, label, cql, include_restricted_content, include_archived_content, include_attachments, include_comments, limit, max_pages, ocr_languages)\u001b[0m\n\u001b[1;32m    224\u001b[0m \u001b[39mif\u001b[39;00m space_key:\n\u001b[1;32m    225\u001b[0m     pages \u001b[39m=\u001b[39m \u001b[39mself\u001b[39m\u001b[39m.\u001b[39mpaginate_request(\n\u001b[1;32m    226\u001b[0m         \u001b[39mself\u001b[39m\u001b[39m.\u001b[39mconfluence\u001b[39m.\u001b[39mget_all_pages_from_space,\n\u001b[1;32m    227\u001b[0m         space\u001b[39m=\u001b[39mspace_key,\n\u001b[0;32m   (...)\u001b[0m\n\u001b[1;32m    231\u001b[0m         expand\u001b[39m=\u001b[39m\u001b[39m\"\u001b[39m\u001b[39mbody.storage.value\u001b[39m\u001b[39m\"\u001b[39m,\n\u001b[1;32m    232\u001b[0m     )\n\u001b[0;32m--> 233\u001b[0m     docs \u001b[39m+\u001b[39m\u001b[39m=\u001b[39m \u001b[39mself\u001b[39;49m\u001b[39m.\u001b[39;49mprocess_pages(\n\u001b[1;32m    234\u001b[0m         pages,\n\u001b[1;32m    235\u001b[0m         include_restricted_content,\n\u001b[1;32m    236\u001b[0m         include_attachments,\n\u001b[1;32m    237\u001b[0m         include_comments,\n\u001b[1;32m    238\u001b[0m         ocr_languages,\n\u001b[1;32m    239\u001b[0m     )\n\u001b[1;32m    241\u001b[0m \u001b[39mif\u001b[39;00m label:\n\u001b[1;32m    242\u001b[0m     pages \u001b[39m=\u001b[39m \u001b[39mself\u001b[39m\u001b[39m.\u001b[39mpaginate_request(\n\u001b[1;32m    243\u001b[0m         \u001b[39mself\u001b[39m\u001b[39m.\u001b[39mconfluence\u001b[39m.\u001b[39mget_all_pages_by_label,\n\u001b[1;32m    244\u001b[0m         label\u001b[39m=\u001b[39mlabel,\n\u001b[1;32m    245\u001b[0m         limit\u001b[39m=\u001b[39mlimit,\n\u001b[1;32m    246\u001b[0m         max_pages\u001b[39m=\u001b[39mmax_pages,\n\u001b[1;32m    247\u001b[0m     )\n",
      "File \u001b[0;32m~/pincode/navi-hackathon/.venv/lib/python3.9/site-packages/langchain/document_loaders/confluence.py:373\u001b[0m, in \u001b[0;36mConfluenceLoader.process_pages\u001b[0;34m(self, pages, include_restricted_content, include_attachments, include_comments, ocr_languages)\u001b[0m\n\u001b[1;32m    371\u001b[0m     \u001b[39mif\u001b[39;00m \u001b[39mnot\u001b[39;00m include_restricted_content \u001b[39mand\u001b[39;00m \u001b[39mnot\u001b[39;00m \u001b[39mself\u001b[39m\u001b[39m.\u001b[39mis_public_page(page):\n\u001b[1;32m    372\u001b[0m         \u001b[39mcontinue\u001b[39;00m\n\u001b[0;32m--> 373\u001b[0m     doc \u001b[39m=\u001b[39m \u001b[39mself\u001b[39;49m\u001b[39m.\u001b[39;49mprocess_page(\n\u001b[1;32m    374\u001b[0m         page, include_attachments, include_comments, ocr_languages\n\u001b[1;32m    375\u001b[0m     )\n\u001b[1;32m    376\u001b[0m     docs\u001b[39m.\u001b[39mappend(doc)\n\u001b[1;32m    378\u001b[0m \u001b[39mreturn\u001b[39;00m docs\n",
      "File \u001b[0;32m~/pincode/navi-hackathon/.venv/lib/python3.9/site-packages/langchain/document_loaders/confluence.py:399\u001b[0m, in \u001b[0;36mConfluenceLoader.process_page\u001b[0;34m(self, page, include_attachments, include_comments, ocr_languages)\u001b[0m\n\u001b[1;32m    397\u001b[0m \u001b[39melse\u001b[39;00m:\n\u001b[1;32m    398\u001b[0m     attachment_texts \u001b[39m=\u001b[39m []\n\u001b[0;32m--> 399\u001b[0m text \u001b[39m=\u001b[39m BeautifulSoup(page[\u001b[39m\"\u001b[39;49m\u001b[39mbody\u001b[39;49m\u001b[39m\"\u001b[39;49m][\u001b[39m\"\u001b[39;49m\u001b[39mstorage\u001b[39;49m\u001b[39m\"\u001b[39;49m][\u001b[39m\"\u001b[39;49m\u001b[39mvalue\u001b[39;49m\u001b[39m\"\u001b[39;49m], \u001b[39m\"\u001b[39;49m\u001b[39mlxml\u001b[39;49m\u001b[39m\"\u001b[39;49m)\u001b[39m.\u001b[39mget_text(\n\u001b[1;32m    400\u001b[0m     \u001b[39m\"\u001b[39m\u001b[39m \u001b[39m\u001b[39m\"\u001b[39m, strip\u001b[39m=\u001b[39m\u001b[39mTrue\u001b[39;00m\n\u001b[1;32m    401\u001b[0m ) \u001b[39m+\u001b[39m \u001b[39m\"\u001b[39m\u001b[39m\"\u001b[39m\u001b[39m.\u001b[39mjoin(attachment_texts)\n\u001b[1;32m    402\u001b[0m \u001b[39mif\u001b[39;00m include_comments:\n\u001b[1;32m    403\u001b[0m     comments \u001b[39m=\u001b[39m \u001b[39mself\u001b[39m\u001b[39m.\u001b[39mconfluence\u001b[39m.\u001b[39mget_page_comments(\n\u001b[1;32m    404\u001b[0m         page[\u001b[39m\"\u001b[39m\u001b[39mid\u001b[39m\u001b[39m\"\u001b[39m], expand\u001b[39m=\u001b[39m\u001b[39m\"\u001b[39m\u001b[39mbody.view.value\u001b[39m\u001b[39m\"\u001b[39m, depth\u001b[39m=\u001b[39m\u001b[39m\"\u001b[39m\u001b[39mall\u001b[39m\u001b[39m\"\u001b[39m\n\u001b[1;32m    405\u001b[0m     )[\u001b[39m\"\u001b[39m\u001b[39mresults\u001b[39m\u001b[39m\"\u001b[39m]\n",
      "File \u001b[0;32m~/pincode/navi-hackathon/.venv/lib/python3.9/site-packages/bs4/__init__.py:250\u001b[0m, in \u001b[0;36mBeautifulSoup.__init__\u001b[0;34m(self, markup, features, builder, parse_only, from_encoding, exclude_encodings, element_classes, **kwargs)\u001b[0m\n\u001b[1;32m    248\u001b[0m     builder_class \u001b[39m=\u001b[39m builder_registry\u001b[39m.\u001b[39mlookup(\u001b[39m*\u001b[39mfeatures)\n\u001b[1;32m    249\u001b[0m     \u001b[39mif\u001b[39;00m builder_class \u001b[39mis\u001b[39;00m \u001b[39mNone\u001b[39;00m:\n\u001b[0;32m--> 250\u001b[0m         \u001b[39mraise\u001b[39;00m FeatureNotFound(\n\u001b[1;32m    251\u001b[0m             \u001b[39m\"\u001b[39m\u001b[39mCouldn\u001b[39m\u001b[39m'\u001b[39m\u001b[39mt find a tree builder with the features you \u001b[39m\u001b[39m\"\u001b[39m\n\u001b[1;32m    252\u001b[0m             \u001b[39m\"\u001b[39m\u001b[39mrequested: \u001b[39m\u001b[39m%s\u001b[39;00m\u001b[39m. Do you need to install a parser library?\u001b[39m\u001b[39m\"\u001b[39m\n\u001b[1;32m    253\u001b[0m             \u001b[39m%\u001b[39m \u001b[39m\"\u001b[39m\u001b[39m,\u001b[39m\u001b[39m\"\u001b[39m\u001b[39m.\u001b[39mjoin(features))\n\u001b[1;32m    255\u001b[0m \u001b[39m# At this point either we have a TreeBuilder instance in\u001b[39;00m\n\u001b[1;32m    256\u001b[0m \u001b[39m# builder, or we have a builder_class that we can instantiate\u001b[39;00m\n\u001b[1;32m    257\u001b[0m \u001b[39m# with the remaining **kwargs.\u001b[39;00m\n\u001b[1;32m    258\u001b[0m \u001b[39mif\u001b[39;00m builder \u001b[39mis\u001b[39;00m \u001b[39mNone\u001b[39;00m:\n",
      "\u001b[0;31mFeatureNotFound\u001b[0m: Couldn't find a tree builder with the features you requested: lxml. Do you need to install a parser library?"
     ]
    }
   ],
   "source": [
    "import os\n",
    "import openai\n",
    "import pandas as pd\n",
    "from dotenv import dotenv_values\n",
    "from langchain.document_loaders import ConfluenceLoader\n",
    "config = dotenv_values(\".env\")\n",
    "\n",
    "openai.organization = config[\"ORG_ID\"]\n",
    "openai.api_key = config[\"OPENAI_API_KEY\"]\n",
    "\n",
    "config = {\"persist_directory\":\"./chroma_db/\",\n",
    "          \"confluence_url\":\"https://navihq.atlassian.net/wiki/\",\n",
    "          \"username\":\"rohit.mishra@navi.com\",\n",
    "          \"api_key\":\"ATATT3xFfGF0nUkk24Y9RVgJlJrKy-ScI8aDY_VCAHrr7qIKVs0GNVDRoQ0GQqNoFGZlts1A3ywX9fUa3uxzzWtSM1FxikhJKfDkeDhRAkXcHZqjwtQFxZVXipj-qYG82bGUETV_4qNAyo3GRl8XcpUdbSxQS5kyDUZBGt5RW6-My8_7mZzT5Es=10FDA744\",\n",
    "          \"space_key\":\"DEVPRO\"\n",
    "          }\n",
    "\n",
    "persist_directory = config.get(\"persist_directory\",None)\n",
    "confluence_url = config.get(\"confluence_url\",None)\n",
    "username = config.get(\"username\",None)\n",
    "api_key = config.get(\"api_key\",None)\n",
    "space_key = config.get(\"space_key\",None)\n",
    "\n",
    "## 1. Extract the documents\n",
    "loader = ConfluenceLoader(\n",
    "    url=confluence_url,\n",
    "    username = username,\n",
    "    api_key= api_key\n",
    ")\n",
    "documents = loader.load(\n",
    "    space_key=space_key,\n",
    "    page_ids=list(\"593429341\"),\n",
    "    limit=1\n",
    "    )\n",
    "\n",
    "text_splitter = CharacterTextSplitter(chunk_size=100, chunk_overlap=0)\n",
    "texts = text_splitter.split_documents(documents)\n",
    "text_splitter = TokenTextSplitter(chunk_size=1000, chunk_overlap=10, encoding_name=\"cl100k_base\")  # This the encoding for text-embedding-ada-002\n",
    "texts = text_splitter.split_documents(texts)\n"
   ]
  },
  {
   "cell_type": "code",
   "execution_count": null,
   "metadata": {},
   "outputs": [],
   "source": []
  }
 ],
 "metadata": {
  "kernelspec": {
   "display_name": ".venv",
   "language": "python",
   "name": "python3"
  },
  "language_info": {
   "codemirror_mode": {
    "name": "ipython",
    "version": 3
   },
   "file_extension": ".py",
   "mimetype": "text/x-python",
   "name": "python",
   "nbconvert_exporter": "python",
   "pygments_lexer": "ipython3",
   "version": "3.9.6"
  },
  "orig_nbformat": 4
 },
 "nbformat": 4,
 "nbformat_minor": 2
}
