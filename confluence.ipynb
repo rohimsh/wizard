{
 "cells": [
  {
   "cell_type": "code",
   "execution_count": 42,
   "metadata": {},
   "outputs": [
    {
     "name": "stderr",
     "output_type": "stream",
     "text": [
      "Upserted vectors:   0%|          | 0/274 [3:37:26<?, ?it/s]\n"
     ]
    },
    {
     "ename": "TesseractNotFoundError",
     "evalue": "tesseract is not installed or it's not in your PATH. See README file for more information.",
     "output_type": "error",
     "traceback": [
      "\u001b[0;31m---------------------------------------------------------------------------\u001b[0m",
      "\u001b[0;31mFileNotFoundError\u001b[0m                         Traceback (most recent call last)",
      "File \u001b[0;32m~/pincode/navi-hackathon/.venv/lib/python3.9/site-packages/pytesseract/pytesseract.py:255\u001b[0m, in \u001b[0;36mrun_tesseract\u001b[0;34m(input_filename, output_filename_base, extension, lang, config, nice, timeout)\u001b[0m\n\u001b[1;32m    254\u001b[0m \u001b[39mtry\u001b[39;00m:\n\u001b[0;32m--> 255\u001b[0m     proc \u001b[39m=\u001b[39m subprocess\u001b[39m.\u001b[39;49mPopen(cmd_args, \u001b[39m*\u001b[39;49m\u001b[39m*\u001b[39;49msubprocess_args())\n\u001b[1;32m    256\u001b[0m \u001b[39mexcept\u001b[39;00m \u001b[39mOSError\u001b[39;00m \u001b[39mas\u001b[39;00m e:\n",
      "File \u001b[0;32m/Applications/Xcode.app/Contents/Developer/Library/Frameworks/Python3.framework/Versions/3.9/lib/python3.9/subprocess.py:951\u001b[0m, in \u001b[0;36mPopen.__init__\u001b[0;34m(self, args, bufsize, executable, stdin, stdout, stderr, preexec_fn, close_fds, shell, cwd, env, universal_newlines, startupinfo, creationflags, restore_signals, start_new_session, pass_fds, user, group, extra_groups, encoding, errors, text, umask)\u001b[0m\n\u001b[1;32m    948\u001b[0m             \u001b[39mself\u001b[39m\u001b[39m.\u001b[39mstderr \u001b[39m=\u001b[39m io\u001b[39m.\u001b[39mTextIOWrapper(\u001b[39mself\u001b[39m\u001b[39m.\u001b[39mstderr,\n\u001b[1;32m    949\u001b[0m                     encoding\u001b[39m=\u001b[39mencoding, errors\u001b[39m=\u001b[39merrors)\n\u001b[0;32m--> 951\u001b[0m     \u001b[39mself\u001b[39;49m\u001b[39m.\u001b[39;49m_execute_child(args, executable, preexec_fn, close_fds,\n\u001b[1;32m    952\u001b[0m                         pass_fds, cwd, env,\n\u001b[1;32m    953\u001b[0m                         startupinfo, creationflags, shell,\n\u001b[1;32m    954\u001b[0m                         p2cread, p2cwrite,\n\u001b[1;32m    955\u001b[0m                         c2pread, c2pwrite,\n\u001b[1;32m    956\u001b[0m                         errread, errwrite,\n\u001b[1;32m    957\u001b[0m                         restore_signals,\n\u001b[1;32m    958\u001b[0m                         gid, gids, uid, umask,\n\u001b[1;32m    959\u001b[0m                         start_new_session)\n\u001b[1;32m    960\u001b[0m \u001b[39mexcept\u001b[39;00m:\n\u001b[1;32m    961\u001b[0m     \u001b[39m# Cleanup if the child failed starting.\u001b[39;00m\n",
      "File \u001b[0;32m/Applications/Xcode.app/Contents/Developer/Library/Frameworks/Python3.framework/Versions/3.9/lib/python3.9/subprocess.py:1821\u001b[0m, in \u001b[0;36mPopen._execute_child\u001b[0;34m(self, args, executable, preexec_fn, close_fds, pass_fds, cwd, env, startupinfo, creationflags, shell, p2cread, p2cwrite, c2pread, c2pwrite, errread, errwrite, restore_signals, gid, gids, uid, umask, start_new_session)\u001b[0m\n\u001b[1;32m   1820\u001b[0m         err_msg \u001b[39m=\u001b[39m os\u001b[39m.\u001b[39mstrerror(errno_num)\n\u001b[0;32m-> 1821\u001b[0m     \u001b[39mraise\u001b[39;00m child_exception_type(errno_num, err_msg, err_filename)\n\u001b[1;32m   1822\u001b[0m \u001b[39mraise\u001b[39;00m child_exception_type(err_msg)\n",
      "\u001b[0;31mFileNotFoundError\u001b[0m: [Errno 2] No such file or directory: 'tesseract'",
      "\nDuring handling of the above exception, another exception occurred:\n",
      "\u001b[0;31mTesseractNotFoundError\u001b[0m                    Traceback (most recent call last)",
      "Cell \u001b[0;32mIn[42], line 57\u001b[0m\n\u001b[1;32m     54\u001b[0m     index \u001b[39m=\u001b[39m GPTVectorStoreIndex\u001b[39m.\u001b[39mfrom_documents(documents, storage_context\u001b[39m=\u001b[39mstorage_context)\n\u001b[1;32m     55\u001b[0m     \u001b[39mreturn\u001b[39;00m index\n\u001b[0;32m---> 57\u001b[0m index \u001b[39m=\u001b[39m data_ingestion_indexing()\n",
      "Cell \u001b[0;32mIn[42], line 48\u001b[0m, in \u001b[0;36mdata_ingestion_indexing\u001b[0;34m()\u001b[0m\n\u001b[1;32m     46\u001b[0m \u001b[39m# construct ConfluenceReader and load data from Confluence\u001b[39;00m\n\u001b[1;32m     47\u001b[0m loader \u001b[39m=\u001b[39m ConfluenceReader(base_url\u001b[39m=\u001b[39mbase_url)\n\u001b[0;32m---> 48\u001b[0m documents \u001b[39m=\u001b[39m loader\u001b[39m.\u001b[39;49mload_data(space_key\u001b[39m=\u001b[39;49mspace_key, page_ids\u001b[39m=\u001b[39;49m[], include_attachments\u001b[39m=\u001b[39;49m\u001b[39mTrue\u001b[39;49;00m)\n\u001b[1;32m     49\u001b[0m \u001b[39m# set pinecone index\u001b[39;00m\n\u001b[1;32m     50\u001b[0m pinecone_index \u001b[39m=\u001b[39m pinecone\u001b[39m.\u001b[39mIndex(\u001b[39m\"\u001b[39m\u001b[39mconfluence-index\u001b[39m\u001b[39m\"\u001b[39m)\n",
      "File \u001b[0;32m~/pincode/navi-hackathon/.venv/lib/python3.9/site-packages/llama_hub/confluence/base.py:89\u001b[0m, in \u001b[0;36mConfluenceReader.load_data\u001b[0;34m(self, space_key, page_ids, label, cql, include_attachments, include_children, limit)\u001b[0m\n\u001b[1;32m     86\u001b[0m             \u001b[39mbreak\u001b[39;00m\n\u001b[1;32m     88\u001b[0m     \u001b[39mfor\u001b[39;00m page \u001b[39min\u001b[39;00m pages:\n\u001b[0;32m---> 89\u001b[0m         doc \u001b[39m=\u001b[39m \u001b[39mself\u001b[39;49m\u001b[39m.\u001b[39;49mprocess_page(page, include_attachments, text_maker)\n\u001b[1;32m     90\u001b[0m         docs\u001b[39m.\u001b[39mappend(doc)\n\u001b[1;32m     92\u001b[0m \u001b[39mif\u001b[39;00m label:\n",
      "File \u001b[0;32m~/pincode/navi-hackathon/.venv/lib/python3.9/site-packages/llama_hub/confluence/base.py:133\u001b[0m, in \u001b[0;36mConfluenceReader.process_page\u001b[0;34m(self, page, include_attachments, text_maker)\u001b[0m\n\u001b[1;32m    131\u001b[0m \u001b[39mdef\u001b[39;00m \u001b[39mprocess_page\u001b[39m(\u001b[39mself\u001b[39m, page, include_attachments, text_maker):\n\u001b[1;32m    132\u001b[0m     \u001b[39mif\u001b[39;00m include_attachments:\n\u001b[0;32m--> 133\u001b[0m         attachment_texts \u001b[39m=\u001b[39m \u001b[39mself\u001b[39;49m\u001b[39m.\u001b[39;49mprocess_attachment(page[\u001b[39m'\u001b[39;49m\u001b[39mid\u001b[39;49m\u001b[39m'\u001b[39;49m])\n\u001b[1;32m    134\u001b[0m     \u001b[39melse\u001b[39;00m:\n\u001b[1;32m    135\u001b[0m         attachment_texts \u001b[39m=\u001b[39m []\n",
      "File \u001b[0;32m~/pincode/navi-hackathon/.venv/lib/python3.9/site-packages/llama_hub/confluence/base.py:157\u001b[0m, in \u001b[0;36mConfluenceReader.process_attachment\u001b[0;34m(self, page_id)\u001b[0m\n\u001b[1;32m    155\u001b[0m     text \u001b[39m=\u001b[39m title \u001b[39m+\u001b[39m \u001b[39mself\u001b[39m\u001b[39m.\u001b[39mprocess_pdf(absolute_url)\n\u001b[1;32m    156\u001b[0m \u001b[39melif\u001b[39;00m media_type \u001b[39m==\u001b[39m \u001b[39m'\u001b[39m\u001b[39mimage/png\u001b[39m\u001b[39m'\u001b[39m \u001b[39mor\u001b[39;00m media_type \u001b[39m==\u001b[39m \u001b[39m'\u001b[39m\u001b[39mimage/jpg\u001b[39m\u001b[39m'\u001b[39m \u001b[39mor\u001b[39;00m media_type \u001b[39m==\u001b[39m \u001b[39m'\u001b[39m\u001b[39mimage/jpeg\u001b[39m\u001b[39m'\u001b[39m:\n\u001b[0;32m--> 157\u001b[0m     text \u001b[39m=\u001b[39m title \u001b[39m+\u001b[39m \u001b[39mself\u001b[39;49m\u001b[39m.\u001b[39;49mprocess_image(absolute_url)\n\u001b[1;32m    158\u001b[0m \u001b[39melif\u001b[39;00m media_type \u001b[39m==\u001b[39m \u001b[39m'\u001b[39m\u001b[39mapplication/vnd.openxmlformats-officedocument.wordprocessingml.document\u001b[39m\u001b[39m'\u001b[39m:\n\u001b[1;32m    159\u001b[0m     text \u001b[39m=\u001b[39m title \u001b[39m+\u001b[39m \u001b[39mself\u001b[39m\u001b[39m.\u001b[39mprocess_doc(absolute_url)\n",
      "File \u001b[0;32m~/pincode/navi-hackathon/.venv/lib/python3.9/site-packages/llama_hub/confluence/base.py:216\u001b[0m, in \u001b[0;36mConfluenceReader.process_image\u001b[0;34m(self, link)\u001b[0m\n\u001b[1;32m    213\u001b[0m \u001b[39mexcept\u001b[39;00m \u001b[39mOSError\u001b[39;00m:\n\u001b[1;32m    214\u001b[0m     \u001b[39mreturn\u001b[39;00m text\n\u001b[0;32m--> 216\u001b[0m \u001b[39mreturn\u001b[39;00m pytesseract\u001b[39m.\u001b[39;49mimage_to_string(image)\n",
      "File \u001b[0;32m~/pincode/navi-hackathon/.venv/lib/python3.9/site-packages/pytesseract/pytesseract.py:423\u001b[0m, in \u001b[0;36mimage_to_string\u001b[0;34m(image, lang, config, nice, output_type, timeout)\u001b[0m\n\u001b[1;32m    418\u001b[0m \u001b[39m\u001b[39m\u001b[39m\"\"\"\u001b[39;00m\n\u001b[1;32m    419\u001b[0m \u001b[39mReturns the result of a Tesseract OCR run on the provided image to string\u001b[39;00m\n\u001b[1;32m    420\u001b[0m \u001b[39m\"\"\"\u001b[39;00m\n\u001b[1;32m    421\u001b[0m args \u001b[39m=\u001b[39m [image, \u001b[39m'\u001b[39m\u001b[39mtxt\u001b[39m\u001b[39m'\u001b[39m, lang, config, nice, timeout]\n\u001b[0;32m--> 423\u001b[0m \u001b[39mreturn\u001b[39;00m {\n\u001b[1;32m    424\u001b[0m     Output\u001b[39m.\u001b[39;49mBYTES: \u001b[39mlambda\u001b[39;49;00m: run_and_get_output(\u001b[39m*\u001b[39;49m(args \u001b[39m+\u001b[39;49m [\u001b[39mTrue\u001b[39;49;00m])),\n\u001b[1;32m    425\u001b[0m     Output\u001b[39m.\u001b[39;49mDICT: \u001b[39mlambda\u001b[39;49;00m: {\u001b[39m'\u001b[39;49m\u001b[39mtext\u001b[39;49m\u001b[39m'\u001b[39;49m: run_and_get_output(\u001b[39m*\u001b[39;49margs)},\n\u001b[1;32m    426\u001b[0m     Output\u001b[39m.\u001b[39;49mSTRING: \u001b[39mlambda\u001b[39;49;00m: run_and_get_output(\u001b[39m*\u001b[39;49margs),\n\u001b[1;32m    427\u001b[0m }[output_type]()\n",
      "File \u001b[0;32m~/pincode/navi-hackathon/.venv/lib/python3.9/site-packages/pytesseract/pytesseract.py:426\u001b[0m, in \u001b[0;36mimage_to_string.<locals>.<lambda>\u001b[0;34m()\u001b[0m\n\u001b[1;32m    418\u001b[0m \u001b[39m\u001b[39m\u001b[39m\"\"\"\u001b[39;00m\n\u001b[1;32m    419\u001b[0m \u001b[39mReturns the result of a Tesseract OCR run on the provided image to string\u001b[39;00m\n\u001b[1;32m    420\u001b[0m \u001b[39m\"\"\"\u001b[39;00m\n\u001b[1;32m    421\u001b[0m args \u001b[39m=\u001b[39m [image, \u001b[39m'\u001b[39m\u001b[39mtxt\u001b[39m\u001b[39m'\u001b[39m, lang, config, nice, timeout]\n\u001b[1;32m    423\u001b[0m \u001b[39mreturn\u001b[39;00m {\n\u001b[1;32m    424\u001b[0m     Output\u001b[39m.\u001b[39mBYTES: \u001b[39mlambda\u001b[39;00m: run_and_get_output(\u001b[39m*\u001b[39m(args \u001b[39m+\u001b[39m [\u001b[39mTrue\u001b[39;00m])),\n\u001b[1;32m    425\u001b[0m     Output\u001b[39m.\u001b[39mDICT: \u001b[39mlambda\u001b[39;00m: {\u001b[39m'\u001b[39m\u001b[39mtext\u001b[39m\u001b[39m'\u001b[39m: run_and_get_output(\u001b[39m*\u001b[39margs)},\n\u001b[0;32m--> 426\u001b[0m     Output\u001b[39m.\u001b[39mSTRING: \u001b[39mlambda\u001b[39;00m: run_and_get_output(\u001b[39m*\u001b[39;49margs),\n\u001b[1;32m    427\u001b[0m }[output_type]()\n",
      "File \u001b[0;32m~/pincode/navi-hackathon/.venv/lib/python3.9/site-packages/pytesseract/pytesseract.py:288\u001b[0m, in \u001b[0;36mrun_and_get_output\u001b[0;34m(image, extension, lang, config, nice, timeout, return_bytes)\u001b[0m\n\u001b[1;32m    277\u001b[0m \u001b[39mwith\u001b[39;00m save(image) \u001b[39mas\u001b[39;00m (temp_name, input_filename):\n\u001b[1;32m    278\u001b[0m     kwargs \u001b[39m=\u001b[39m {\n\u001b[1;32m    279\u001b[0m         \u001b[39m'\u001b[39m\u001b[39minput_filename\u001b[39m\u001b[39m'\u001b[39m: input_filename,\n\u001b[1;32m    280\u001b[0m         \u001b[39m'\u001b[39m\u001b[39moutput_filename_base\u001b[39m\u001b[39m'\u001b[39m: temp_name,\n\u001b[0;32m   (...)\u001b[0m\n\u001b[1;32m    285\u001b[0m         \u001b[39m'\u001b[39m\u001b[39mtimeout\u001b[39m\u001b[39m'\u001b[39m: timeout,\n\u001b[1;32m    286\u001b[0m     }\n\u001b[0;32m--> 288\u001b[0m     run_tesseract(\u001b[39m*\u001b[39;49m\u001b[39m*\u001b[39;49mkwargs)\n\u001b[1;32m    289\u001b[0m     filename \u001b[39m=\u001b[39m \u001b[39mf\u001b[39m\u001b[39m\"\u001b[39m\u001b[39m{\u001b[39;00mkwargs[\u001b[39m'\u001b[39m\u001b[39moutput_filename_base\u001b[39m\u001b[39m'\u001b[39m]\u001b[39m}\u001b[39;00m\u001b[39m{\u001b[39;00mextsep\u001b[39m}\u001b[39;00m\u001b[39m{\u001b[39;00mextension\u001b[39m}\u001b[39;00m\u001b[39m\"\u001b[39m\n\u001b[1;32m    290\u001b[0m     \u001b[39mwith\u001b[39;00m \u001b[39mopen\u001b[39m(filename, \u001b[39m'\u001b[39m\u001b[39mrb\u001b[39m\u001b[39m'\u001b[39m) \u001b[39mas\u001b[39;00m output_file:\n",
      "File \u001b[0;32m~/pincode/navi-hackathon/.venv/lib/python3.9/site-packages/pytesseract/pytesseract.py:260\u001b[0m, in \u001b[0;36mrun_tesseract\u001b[0;34m(input_filename, output_filename_base, extension, lang, config, nice, timeout)\u001b[0m\n\u001b[1;32m    258\u001b[0m         \u001b[39mraise\u001b[39;00m\n\u001b[1;32m    259\u001b[0m     \u001b[39melse\u001b[39;00m:\n\u001b[0;32m--> 260\u001b[0m         \u001b[39mraise\u001b[39;00m TesseractNotFoundError()\n\u001b[1;32m    262\u001b[0m \u001b[39mwith\u001b[39;00m timeout_manager(proc, timeout) \u001b[39mas\u001b[39;00m error_string:\n\u001b[1;32m    263\u001b[0m     \u001b[39mif\u001b[39;00m proc\u001b[39m.\u001b[39mreturncode:\n",
      "\u001b[0;31mTesseractNotFoundError\u001b[0m: tesseract is not installed or it's not in your PATH. See README file for more information."
     ]
    }
   ],
   "source": [
    "import os, sys\n",
    "import openai\n",
    "import pinecone\n",
    "import pandas as pd\n",
    "from dotenv import dotenv_values\n",
    "from llama_hub.confluence.base import ConfluenceReader\n",
    "from langchain.chat_models import ChatOpenAI\n",
    "from llama_index import LLMPredictor, ServiceContext, GPTVectorStoreIndex\n",
    "from llama_index.storage.storage_context import StorageContext\n",
    "from llama_index.vector_stores import PineconeVectorStore\n",
    "from llama_index import set_global_service_context\n",
    "\n",
    "config = dotenv_values(\".env\")\n",
    "\n",
    "openai.organization = config[\"ORG_ID\"]\n",
    "openai.api_key = config[\"OPENAI_API_KEY\"]\n",
    "\n",
    "# os.environ[\"CONFLUENCE_API_TOKEN\"] = config[\"CONFLUENCE_API_TOKEN\"]\n",
    "# os.environ[\"CONFLUENCE_USERNAME\"] = config[\"CONFLUENCE_USERNAME\"]\n",
    "\n",
    "# set the size of the context window of the LLM. Typically this is set automatically with the model metadata. We can also explicitly override via this parameter for additional control\n",
    "context_window = 4096\n",
    "# set number of output tokens from the LLM. Typically this is set automatically with the model metadata. It doesn't limit the model output, but affects the amount of “space” we save for the output, when computing available context window size for packing text from retrieved Nodes\n",
    "num_output = 512\n",
    "\n",
    "#LLMPredictor is a wrapper class around LangChain's LLMChain that allows easy integration into LlamaIndex\n",
    "llm_predictor = LLMPredictor(llm=ChatOpenAI(temperature=0.2, model_name=\"gpt-3.5-turbo\", max_tokens=num_output))\n",
    "\n",
    "#constructs service_context\n",
    "service_context = ServiceContext.from_defaults(llm_predictor=llm_predictor, \n",
    "                                                context_window=context_window,\n",
    "                                                num_output=num_output)\n",
    "\n",
    "set_global_service_context(service_context)\n",
    "\n",
    "# init pinecone\n",
    "pinecone.init(api_key=config['PINECONE_API_KEY'], environment=\"asia-southeast1-gcp-free\")\n",
    "\n",
    "def data_ingestion_indexing():\n",
    "\n",
    "    # Confluence base url and space key\n",
    "    base_url = \"https://navihq.atlassian.net/wiki/\"\n",
    "    space_key = \"IN\"\n",
    "    \n",
    "\n",
    "    # construct ConfluenceReader and load data from Confluence\n",
    "    loader = ConfluenceReader(base_url=base_url)\n",
    "    documents = loader.load_data(space_key=space_key, page_ids=[], include_attachments=True)\n",
    "    # set pinecone index\n",
    "    pinecone_index = pinecone.Index(\"confluence-index\")\n",
    "    # build the PineconeVectorStore and GPTVectorStoreIndex\n",
    "    vector_store = PineconeVectorStore(pinecone_index=pinecone_index)\n",
    "    storage_context = StorageContext.from_defaults(vector_store=vector_store)\n",
    "    index = GPTVectorStoreIndex.from_documents(documents, storage_context=storage_context)\n",
    "    return index\n",
    "\n",
    "index = data_ingestion_indexing()"
   ]
  },
  {
   "cell_type": "code",
   "execution_count": 44,
   "metadata": {},
   "outputs": [
    {
     "name": "stdout",
     "output_type": "stream",
     "text": [
      "There are several ways to take a heap dump in production:\n",
      "\n",
      "1. Using the Toolbox Pod (Nonprod): Exec into the toolbox pod and run the command `curl http://payments-navi-service.dev-critical:4001/actuator/heapdump -O`. Use Pod IP if you want to take specific pods heap dump.\n",
      "\n",
      "2. Using op-task: Op-tasks setup can be used to get a heap dump for a service. Once the op-task pipeline passes, an email is sent to the user who ran the pipeline with links to download artifacts and log files.\n",
      "\n",
      "3. Using ephemeral containers: Use the command to create a copy of the pod. This copy will contain an injected container that has the tools to take the heap dump. Once the pod is ready, run the command to exec into the created pod. Run `ps aux` command and get the process id of the java process. Use the command to create a heap dump inside the pod. Heapdump file should be created at path `/proc/<pid>/root/tmp/`. Run the command to copy the heap dump file outside the pod.\n",
      "\n",
      "4. Automatic Heap Dump on Java OOM: To enable it for your service, you need to append the required arguments to your JVM_OPTS env variable from the deployment portal. This enables Java to automatically capture a heap dump whenever your service encounters an OOM error.\n"
     ]
    }
   ],
   "source": [
    "query_suffix = \".Use bullet points wherever applicable. Please always cite sources along with your answer.\"\n",
    "\n",
    "def data_querying(input_text):\n",
    "    result = index.as_query_engine(service_context=service_context).query(input_text + query_suffix)\n",
    "    return result\n",
    "\n",
    "\n",
    "print(data_querying(\"How to take a heap dump in production\"))\n"
   ]
  }
 ],
 "metadata": {
  "kernelspec": {
   "display_name": ".venv",
   "language": "python",
   "name": "python3"
  },
  "language_info": {
   "codemirror_mode": {
    "name": "ipython",
    "version": 3
   },
   "file_extension": ".py",
   "mimetype": "text/x-python",
   "name": "python",
   "nbconvert_exporter": "python",
   "pygments_lexer": "ipython3",
   "version": "3.9.6"
  },
  "orig_nbformat": 4
 },
 "nbformat": 4,
 "nbformat_minor": 2
}
